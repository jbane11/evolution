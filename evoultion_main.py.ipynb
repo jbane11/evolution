{
 "cells": [
  {
   "cell_type": "code",
   "execution_count": 23,
   "metadata": {},
   "outputs": [],
   "source": [
    "\n"
   ]
  },
  {
   "cell_type": "code",
   "execution_count": 1,
   "metadata": {},
   "outputs": [],
   "source": [
    "\n",
    "import evolution_class as ev\n",
    "import pygame, sys\n",
    "from pygame.locals import *\n",
    "\n",
    "\n",
    "PC = ev.Character(\"Bob\")\n",
    "PC.set_level(1)\n",
    "\n"
   ]
  },
  {
   "cell_type": "code",
   "execution_count": null,
   "metadata": {},
   "outputs": [],
   "source": [
    "pygame.init()\n",
    "displaysurf = pygame.display.set_mode((900,700))\n",
    "pygame.display.set_caption('Evolution (Live, Survive, Evolve!)')\n",
    "\n",
    "exit_game = True\n",
    "alive = True\n",
    "\n",
    "clock = pygame.time.Clock()\n",
    "\n",
    "white = [255, 255, 255]\n",
    "\n",
    "displaysurf.fill(white)\n",
    "\n",
    "pygame.key.set_repeat(50, 50)\n",
    "\n",
    "while exit_game:\n",
    "    \n",
    "    for event in pygame.event.get():\n",
    "        if event.type==pygame.QUIT:\n",
    "            exit_game = False\n",
    "            pygame.quit()\n",
    "            sys.exit()\n",
    "       \n",
    "    \n",
    "    \n",
    "        if event.type == pygame.KEYDOWN:\n",
    "            if event.key == K_ESCAPE:\n",
    "                exit_game = False\n",
    "                pygame.quit()\n",
    "                \n",
    "                \n",
    "        PC.draw_self(displaysurf)\n",
    "            \n",
    "            \n",
    "            \n",
    "            \n",
    "            \n",
    "            \n",
    "        pygame.display.update()\n"
   ]
  },
  {
   "cell_type": "code",
   "execution_count": null,
   "metadata": {},
   "outputs": [],
   "source": []
  },
  {
   "cell_type": "code",
   "execution_count": null,
   "metadata": {},
   "outputs": [],
   "source": []
  },
  {
   "cell_type": "code",
   "execution_count": null,
   "metadata": {},
   "outputs": [],
   "source": []
  },
  {
   "cell_type": "code",
   "execution_count": null,
   "metadata": {},
   "outputs": [],
   "source": []
  },
  {
   "cell_type": "code",
   "execution_count": null,
   "metadata": {},
   "outputs": [],
   "source": []
  },
  {
   "cell_type": "code",
   "execution_count": null,
   "metadata": {},
   "outputs": [],
   "source": []
  },
  {
   "cell_type": "code",
   "execution_count": null,
   "metadata": {},
   "outputs": [],
   "source": []
  }
 ],
 "metadata": {
  "kernelspec": {
   "display_name": "Python 3",
   "language": "python",
   "name": "python3"
  },
  "language_info": {
   "codemirror_mode": {
    "name": "ipython",
    "version": 3
   },
   "file_extension": ".py",
   "mimetype": "text/x-python",
   "name": "python",
   "nbconvert_exporter": "python",
   "pygments_lexer": "ipython3",
   "version": "3.6.4"
  }
 },
 "nbformat": 4,
 "nbformat_minor": 2
}
