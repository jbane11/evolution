{
 "cells": [
  {
   "cell_type": "code",
   "execution_count": 2,
   "metadata": {},
   "outputs": [],
   "source": [
    "import numpy as np\n",
    "import random as rand\n",
    "import pygame, sys\n",
    "from pygame.locals import *\n",
    "\n",
    "global diff_mod\n",
    "diff_mod =3"
   ]
  },
  {
   "cell_type": "code",
   "execution_count": 3,
   "metadata": {},
   "outputs": [],
   "source": [
    "class Character:\n",
    "    '''Defining the atributes(sp) of the Character\n",
    "        Global varibles include name, health, mana, stamina,skills'''    \n",
    "    def __init__(self,n='Bob'):\n",
    "        self.name =n\n",
    "        self.health=10\n",
    "        self.mana=10\n",
    "        self.stamin=10\n",
    "        self.expereince=0\n",
    "        self.level=1\n",
    "    def gain_exp(self,a=0):\n",
    "        self.expereince = self.expereince+a\n",
    "    def set_level(self,level=1):\n",
    "        self.level = level\n",
    "        self.health =10*level\n",
    "        self.mana = 10*level\n",
    "        self.stamin=10*level\n",
    "    def print_status(self,mode=1):\n",
    "        if mode:\n",
    "            print(\"Health:\",self.health)\n",
    "            print(\"Mana:\",self.mana)\n",
    "            print(\"Level:\",self.level)\n",
    "            print(\"Stamina:\",self.stamin)\n",
    "            print(\"Exp:\" ,self.expereince)\n",
    "        elif mode == 2:\n",
    "            print(\"Level:\" ,self.level)\n",
    "            print(\"Exp:\" ,self.expereince)\n",
    "    \n",
    "    \n",
    "        \n",
    "class NPC:\n",
    "    def __init__(self,name=\"NPC\",level=1):\n",
    "        self.name =name\n",
    "        self.health=10*level\n",
    "        self.mana=10*level\n",
    "        self.stamin=10*level\n",
    "        self.level=level\n",
    "        \n",
    "def Generate_NPC(PC):\n",
    "    name_str = np.loadtxt(fname='/Users/Jason/py_game/evolution/inp/name.csv',dtype=str)\n",
    "    rand_int = rand.randint(0,len(name_str))\n",
    "    name = name_str[rand_int]\n",
    "    max_level = PC.level+round(10*diff_mod/3.0)\n",
    "    min_level = PC.level-10\n",
    "    if min_level <= 0:\n",
    "        min_level =1\n",
    "    level = rand.randint(min_level,max_level)\n",
    "    \n",
    "    NonPC=NPC(name,level)\n",
    "    return NonPC\n",
    "\n",
    "    \n",
    "\n",
    "def Contact(a,b):\n",
    "    '''Conact between two Characters(class) determines what will happen'''\n",
    "    if abs(a.level - b.level) < 5:\n",
    "        winner=Fight(a,b)\n",
    "    elif a.level > (b.level + 5 ):\n",
    "        print(\"No Fight\")\n",
    "    else :\n",
    "        print(\"a gets bonus\")\n",
    "        a.gain_exp(b.level-a.level)\n",
    "        \n",
    "def Fight(a,b):\n",
    "    print(\"Fight\")\n",
    "    a_weight = rand.randint(0,11)+a.level\n",
    "    b_weight = rand.randint(0,10)*round(diff_mod/3.0) + b.level\n",
    "    \n",
    "    if a_weight > b_weight:\n",
    "        print(\"a won\")\n",
    "        exp= (b.level - a.level+6)*10\n",
    "        a.gain_exp(exp)\n",
    "#        print(\"a got\",a.level-(b.level-10), \"exp\")\n",
    "#        print(a.expereince)\n",
    "    else :\n",
    "        print(\"a lost\")\n",
    "        a.health = a.health - 1*diff_mod\n",
    "    "
   ]
  },
  {
   "cell_type": "code",
   "execution_count": 4,
   "metadata": {},
   "outputs": [],
   "source": [
    "PC=Character(\"Bob\")\n",
    "PC.set_level(3)\n"
   ]
  },
  {
   "cell_type": "code",
   "execution_count": 9,
   "metadata": {},
   "outputs": [],
   "source": [
    "pygame.init()\n",
    "displaysurf = pygame.display.set_mode((500,400))\n",
    "pygame.display.set_caption('Evolution (Live, Survive, Evolve!)')\n",
    "\n",
    "exit_game = True\n",
    "alive = True\n",
    "\n",
    "while exit_game:\n",
    "    \n",
    "    for event in pygame.event.get():\n",
    "        if event.type== QUIT:\n",
    "            pyganme.quit()\n",
    "            sys.exit()\n",
    "            \n",
    "        pygame.display.update()\n",
    "            \n",
    "            \n",
    "            \n",
    "            \n",
    "            \n",
    "\n",
    "\n",
    "\n"
   ]
  },
  {
   "cell_type": "code",
   "execution_count": 224,
   "metadata": {},
   "outputs": [
    {
     "name": "stdout",
     "output_type": "stream",
     "text": [
      "a gets bonus\n",
      "Fight\n",
      "a lost\n",
      "Fight\n",
      "a won\n",
      "a got 9 exp\n",
      "80\n",
      "Fight\n",
      "a lost\n",
      "a gets bonus\n",
      "a gets bonus\n",
      "a gets bonus\n",
      "a gets bonus\n",
      "a gets bonus\n",
      "a gets bonus\n",
      "Health: 24\n",
      "Mana: 30\n",
      "Level: 3\n",
      "Stamina: 30\n",
      "Exp: 126\n"
     ]
    }
   ],
   "source": [
    "for i in range(0,10):\n",
    "    NPC_bad = Generate_NPC(PC)\n",
    "    Contact(PC,NPC_bad)\n",
    "PC.print_status(1)"
   ]
  },
  {
   "cell_type": "code",
   "execution_count": 203,
   "metadata": {},
   "outputs": [
    {
     "name": "stdout",
     "output_type": "stream",
     "text": [
      "No Fight\n",
      "Health: 100\n",
      "Mana: 100\n",
      "Level: 10\n",
      "Stamina: 100\n",
      "Exp: 0\n"
     ]
    }
   ],
   "source": [
    "x=Character(\"John\")\n",
    "x.set_level(10)\n",
    "y=Generate_NPC(x)\n",
    "\n",
    "\n",
    "Contact(x,y)\n",
    "\n",
    "x.print_status(1)\n",
    "\n",
    "\n"
   ]
  },
  {
   "cell_type": "code",
   "execution_count": null,
   "metadata": {},
   "outputs": [],
   "source": []
  }
 ],
 "metadata": {
  "kernelspec": {
   "display_name": "Python 3",
   "language": "python",
   "name": "python3"
  },
  "language_info": {
   "codemirror_mode": {
    "name": "ipython",
    "version": 3
   },
   "file_extension": ".py",
   "mimetype": "text/x-python",
   "name": "python",
   "nbconvert_exporter": "python",
   "pygments_lexer": "ipython3",
   "version": "3.6.4"
  }
 },
 "nbformat": 4,
 "nbformat_minor": 2
}
